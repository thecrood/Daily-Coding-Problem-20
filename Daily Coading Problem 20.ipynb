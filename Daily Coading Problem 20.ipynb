{
 "cells": [
  {
   "cell_type": "markdown",
   "id": "7b9c17e0",
   "metadata": {},
   "source": [
    "# Daily Coading Problem 20"
   ]
  },
  {
   "cell_type": "raw",
   "id": "61ddfe00",
   "metadata": {},
   "source": [
    "This problem was asked by Google.\n",
    "\n",
    "Given two singly linked lists that intersect at some point, find the intersecting node. The lists are non-cyclical.\n",
    "\n",
    "For example, given A = 3 -> 7 -> 8 -> 10 and B = 99 -> 1 -> 8 -> 10, return the node with value 8.\n",
    "\n",
    "In this example, assume nodes with the same value are the exact same node objects.\n",
    "\n",
    "Do this in O(M + N) time (where M and N are the lengths of the lists) and constant space."
   ]
  },
  {
   "cell_type": "markdown",
   "id": "5cb0858d",
   "metadata": {},
   "source": [
    "# Solution\n",
    "\n",
    "We might start this problem by first ignoring the time and space constraints, in order to get a better grasp of the problem.\n",
    "\n",
    "Naively, we could iterate through one of the lists and add each node to a set or dictionary, then we could iterate over the other list and check each node we're looking at to see if it's in the set. Then we'd return the first node that is present in the set. This takes O(M + N) time but also O(max(M, N)) space (since we don't know initially which list is longer). How can we reduce the amount of space we need?\n",
    "\n",
    "We can get around the space constraint with the following trick: first, get the length of both lists. Find the difference between the two, and then keep two pointers at the head of each list. Move the pointer of the larger list up by the difference, and then move the pointers forward in conjunction and check if they match.\n",
    "\n"
   ]
  },
  {
   "cell_type": "code",
   "execution_count": 9,
   "id": "8f874369",
   "metadata": {},
   "outputs": [],
   "source": [
    "def length(head):\n",
    "    if not head:\n",
    "        return 0\n",
    "    return 1 + length(head.next)\n",
    "\n",
    "def intersection(a, b):\n",
    "    m, n = length(a), length(b)\n",
    "    cur_a, cur_b = a, b\n",
    "\n",
    "    if m > n:\n",
    "        for _ in range(m - n):\n",
    "            cur_a = cur_a.next\n",
    "    else:\n",
    "        for _ in range(n - m):\n",
    "            cur_b = cur_b.next\n",
    "\n",
    "    while cur_a != cur_b:\n",
    "        cur_a = cur_a.next\n",
    "        cur_b = cur_b.next\n",
    "    return cur_a\n"
   ]
  },
  {
   "cell_type": "code",
   "execution_count": null,
   "id": "2a1035a5",
   "metadata": {},
   "outputs": [],
   "source": []
  }
 ],
 "metadata": {
  "kernelspec": {
   "display_name": "Python 3 (ipykernel)",
   "language": "python",
   "name": "python3"
  },
  "language_info": {
   "codemirror_mode": {
    "name": "ipython",
    "version": 3
   },
   "file_extension": ".py",
   "mimetype": "text/x-python",
   "name": "python",
   "nbconvert_exporter": "python",
   "pygments_lexer": "ipython3",
   "version": "3.8.10"
  }
 },
 "nbformat": 4,
 "nbformat_minor": 5
}
